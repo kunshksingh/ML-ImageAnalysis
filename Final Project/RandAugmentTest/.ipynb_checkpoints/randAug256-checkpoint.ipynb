{
 "cells": [
  {
   "cell_type": "code",
   "execution_count": 152,
   "metadata": {
    "id": "TbzwMaJJ8M71"
   },
   "outputs": [
    {
     "name": "stdout",
     "output_type": "stream",
     "text": [
      "Defaulting to user installation because normal site-packages is not writeable\n",
      "Requirement already satisfied: simpleitk in ./.local/lib/python3.8/site-packages (2.2.1)\n"
     ]
    }
   ],
   "source": [
    "# Imports\n",
    "\n",
    "import tensorflow as tf\n",
    "import numpy as np\n",
    "import matplotlib.pyplot as plt\n",
    "from tensorflow.keras import layers\n",
    "import tensorflow_datasets as tfds\n",
    "from imgaug import augmenters as iaa\n",
    "import imgaug as ia\n",
    "\n",
    "#----------------------------------------\n",
    "!pip install simpleitk\n",
    "import SimpleITK as sitk\n",
    "import sys\n",
    "import os\n",
    "import matplotlib.pyplot as plt"
   ]
  },
  {
   "cell_type": "code",
   "execution_count": 153,
   "metadata": {
    "colab": {
     "base_uri": "https://localhost:8080/"
    },
    "id": "7zdRwVV19KfB",
    "outputId": "01f1885d-9222-4107-f6fe-084440e1ed4d"
   },
   "outputs": [
    {
     "name": "stdout",
     "output_type": "stream",
     "text": [
      "Total training examples: 378\n",
      "Total test examples: 50\n"
     ]
    }
   ],
   "source": [
    "\n",
    "#INITIAL VARS —————————————————————————————————————————————————————————————\n",
    "tfds.disable_progress_bar()\n",
    "tf.random.set_seed(42)\n",
    "ia.seed(42)\n",
    "\n",
    "x_train123 = []\n",
    "y_train = []\n",
    "x_test123 = []\n",
    "y_test = []\n",
    "\n",
    "\"\"\"\n",
    "## Load the Brain Classification dataset\n",
    "\"\"\"\n",
    "\n",
    "#PATH INFORMATION —————————————————————————————————————————————————————————————\n",
    "healthy_train = \"RandAugmentTest/Data/Training/Healthy\" #Relative Path to Healthy Train Data\n",
    "diseased_train = \"RandAugmentTest/Data/Training/Diseased/\" #Relative Path to Diseased Train Data\n",
    "healthy_test = \"RandAugmentTest/Data/Testing/Healthy/\" #Relative Path to Healthy Test Data\n",
    "diseased_test = \"RandAugmentTest/Data/Testing/Diseased/\" #Relative Path to Diseased Test Data\n",
    "\n",
    "\n",
    "#POPULATE TRAIN/TEST DATASETS —————————————————————————————————————————————————————————————\n",
    "for file_name in os.listdir(healthy_train):\n",
    "  if file_name.endswith('.mhd'):\n",
    "    img = sitk.ReadImage(os.path.join(healthy_train, file_name))\n",
    "    imgdata = sitk.GetArrayFromImage(img)\n",
    "    x_train123.append(imgdata)\n",
    "    y_train.append(0)\n",
    "\n",
    "for file_name in os.listdir(diseased_train):\n",
    "  if file_name.endswith('.mhd'):\n",
    "    img = sitk.ReadImage(os.path.join(diseased_train, file_name))\n",
    "    imgdata = sitk.GetArrayFromImage(img)\n",
    "    x_train123.append(imgdata)\n",
    "    y_train.append(1)\n",
    "count = 0\n",
    "for file_name in os.listdir(healthy_test):\n",
    "  if file_name.endswith('.mhd'):\n",
    "    img = sitk.ReadImage(os.path.join(healthy_test, file_name))\n",
    "    imgdata = sitk.GetArrayFromImage(img)\n",
    "    x_test123.append(imgdata)\n",
    "    y_test.append(0) \n",
    "\n",
    "for file_name in os.listdir(diseased_test):\n",
    "  if file_name.endswith('.mhd'):\n",
    "    img = sitk.ReadImage(os.path.join(diseased_test, file_name))\n",
    "    imgdata = sitk.GetArrayFromImage(img)\n",
    "    x_test123.append(imgdata)\n",
    "    y_test.append(1) \n",
    "\n",
    "\n",
    "x_train = np.empty(shape=[378,256,256, 3])\n",
    "for i in range(len(x_train)):\n",
    "    x_train[i] = np.stack((x_train123[i],)*3, axis=-1)\n",
    "y_train = np.array(y_train)\n",
    "\n",
    "x_test = np.empty(shape=[50,256,256, 3])\n",
    "for i in range(len(x_test)):\n",
    "    x_train[i] = np.stack((x_test123[i],)*3, axis=-1)\n",
    "y_test = np.array(y_test)\n",
    "\n",
    "\n",
    "# print(x_train.shape)\n",
    "# print(y_train.shape)\n",
    "\n",
    "# print(x_test.shape)\n",
    "# print(y_test.shape)\n",
    "\n",
    "\n",
    "print(f\"Total training examples: {len(x_train)}\")\n",
    "print(f\"Total test examples: {len(x_test)}\")\n",
    "\n"
   ]
  },
  {
   "cell_type": "code",
   "execution_count": 161,
   "metadata": {
    "id": "GQHFNodV9Kai"
   },
   "outputs": [],
   "source": [
    "# Define hyperparameters\n",
    "\n",
    "AUTO = tf.data.AUTOTUNE\n",
    "BATCH_SIZE = 256\n",
    "EPOCHS = 4\n",
    "IMAGE_SIZE = 256\n",
    "\n",
    "rand_aug = iaa.RandAugment(n=3, m=4)\n"
   ]
  },
  {
   "cell_type": "code",
   "execution_count": 162,
   "metadata": {
    "id": "7oHBgv7E9KX0"
   },
   "outputs": [],
   "source": [
    "#Augment our datasets with rand_aug\n",
    "\n",
    "def augment(images):\n",
    "    images = tf.cast(images, tf.uint8)\n",
    "    return rand_aug(images=images.numpy())\n",
    "\n"
   ]
  },
  {
   "cell_type": "code",
   "execution_count": 163,
   "metadata": {
    "id": "H2JwbAIK9KUr"
   },
   "outputs": [],
   "source": [
    "# Convert the numpy train/test datasets into tensorflow train/test datasets\n",
    "\n",
    "train_ds_rand = (\n",
    "    tf.data.Dataset.from_tensor_slices((x_train, y_train))\n",
    "    .shuffle(BATCH_SIZE * 100)\n",
    "    .batch(BATCH_SIZE)\n",
    "    .map(\n",
    "        lambda x, y: (tf.image.resize(x, (IMAGE_SIZE, IMAGE_SIZE)), y),\n",
    "        num_parallel_calls=AUTO,\n",
    "    )\n",
    "    .map(\n",
    "        lambda x, y: (tf.py_function(augment, [x], [tf.float32])[0], y),\n",
    "        num_parallel_calls=AUTO,\n",
    "    )\n",
    "    .prefetch(AUTO)\n",
    ")\n",
    "\n",
    "test_ds = (\n",
    "    tf.data.Dataset.from_tensor_slices((x_test, y_test))\n",
    "    .batch(BATCH_SIZE)\n",
    "    .map(\n",
    "        lambda x, y: (tf.image.resize(x, (IMAGE_SIZE, IMAGE_SIZE)), y),\n",
    "        num_parallel_calls=AUTO,\n",
    "    )\n",
    "    .prefetch(AUTO)\n",
    ")"
   ]
  },
  {
   "cell_type": "code",
   "execution_count": 164,
   "metadata": {
    "colab": {
     "base_uri": "https://localhost:8080/"
    },
    "id": "bJ5d3j0o9KHO",
    "outputId": "f4d5f5c0-dc17-45eb-92f4-42fd756d1e85"
   },
   "outputs": [
    {
     "name": "stdout",
     "output_type": "stream",
     "text": [
      "Model: \"sequential_40\"\n",
      "_________________________________________________________________\n",
      " Layer (type)                Output Shape              Param #   \n",
      "=================================================================\n",
      " rescaling_40 (Rescaling)    (None, 256, 256, 3)       0         \n",
      "                                                                 \n",
      " resnet50v2 (Functional)     (None, 2)                 23568898  \n",
      "                                                                 \n",
      "=================================================================\n",
      "Total params: 23,568,898\n",
      "Trainable params: 23,523,458\n",
      "Non-trainable params: 45,440\n",
      "_________________________________________________________________\n"
     ]
    }
   ],
   "source": [
    "#Define the CNN Model's Architecture\n",
    "\n",
    "\n",
    "def get_training_model():\n",
    "    resnet50_v2 = tf.keras.applications.ResNet50V2(\n",
    "        weights=None,\n",
    "        include_top=True,\n",
    "        input_shape=(IMAGE_SIZE, IMAGE_SIZE, 3),\n",
    "        classes=2,\n",
    "    )\n",
    "    model = tf.keras.Sequential(\n",
    "        [\n",
    "            layers.Input((IMAGE_SIZE, IMAGE_SIZE, 3)),\n",
    "            layers.Rescaling(scale=1.0 / 127.5, offset=-1),\n",
    "            resnet50_v2,\n",
    "        ]\n",
    "    )\n",
    "    return model\n",
    "\n",
    "\n",
    "get_training_model().summary()\n"
   ]
  },
  {
   "cell_type": "code",
   "execution_count": 165,
   "metadata": {
    "id": "__c-UtLd9KEX"
   },
   "outputs": [],
   "source": [
    "#Get initial training parameters\n",
    "\n",
    "initial_model = get_training_model()\n",
    "initial_model.save_weights(\"initial_weights.h5\")\n"
   ]
  },
  {
   "cell_type": "code",
   "execution_count": 166,
   "metadata": {
    "colab": {
     "base_uri": "https://localhost:8080/"
    },
    "id": "jc6z3c3U9KBg",
    "outputId": "b7d5e545-9159-4957-eb89-130959423d4e"
   },
   "outputs": [
    {
     "name": "stdout",
     "output_type": "stream",
     "text": [
      "Epoch 1/4\n",
      "2/2 [==============================] - 43s 12s/step - loss: 1.5123 - accuracy: 0.7249 - val_loss: 5.8260 - val_accuracy: 0.2400\n",
      "Epoch 2/4\n",
      "2/2 [==============================] - 31s 11s/step - loss: 1.6649 - accuracy: 0.6455 - val_loss: 5.3856 - val_accuracy: 0.7600\n",
      "Epoch 3/4\n",
      "2/2 [==============================] - 32s 11s/step - loss: 0.8819 - accuracy: 0.5926 - val_loss: 90.8421 - val_accuracy: 0.7600\n",
      "Epoch 4/4\n",
      "2/2 [==============================] - 33s 12s/step - loss: 0.7607 - accuracy: 0.7593 - val_loss: 681.3340 - val_accuracy: 0.7600\n",
      "1/1 [==============================] - 1s 865ms/step - loss: 681.3340 - accuracy: 0.7600\n",
      "Test accuracy: 76.00%\n"
     ]
    }
   ],
   "source": [
    "#Train data model using RandAugment\n",
    "\n",
    "rand_aug_model = get_training_model()\n",
    "rand_aug_model.load_weights(\"initial_weights.h5\")\n",
    "rand_aug_model.compile(\n",
    "    loss=\"sparse_categorical_crossentropy\", optimizer=\"adam\", metrics=[\"accuracy\"]\n",
    ")\n",
    "rand_aug_model.fit(train_ds_rand, validation_data=test_ds, epochs=EPOCHS)\n",
    "_, test_acc = rand_aug_model.evaluate(test_ds)\n",
    "print(\"Test accuracy: {:.2f}%\".format(test_acc * 100))\n"
   ]
  }
 ],
 "metadata": {
  "colab": {
   "provenance": []
  },
  "kernelspec": {
   "display_name": "Python 3",
   "language": "python",
   "name": "python3"
  },
  "language_info": {
   "codemirror_mode": {
    "name": "ipython",
    "version": 3
   },
   "file_extension": ".py",
   "mimetype": "text/x-python",
   "name": "python",
   "nbconvert_exporter": "python",
   "pygments_lexer": "ipython3",
   "version": "3.8.8"
  }
 },
 "nbformat": 4,
 "nbformat_minor": 4
}
