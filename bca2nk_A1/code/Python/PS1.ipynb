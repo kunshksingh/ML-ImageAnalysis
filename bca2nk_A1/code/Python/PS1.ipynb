{
 "cells": [
  {
   "cell_type": "markdown",
   "metadata": {},
   "source": [
    "### Import Libraries"
   ]
  },
  {
   "cell_type": "code",
   "execution_count": 1,
   "metadata": {},
   "outputs": [
    {
     "ename": "ModuleNotFoundError",
     "evalue": "No module named 'numpy'",
     "output_type": "error",
     "traceback": [
      "\u001b[0;31m---------------------------------------------------------------------------\u001b[0m",
      "\u001b[0;31mModuleNotFoundError\u001b[0m                       Traceback (most recent call last)",
      "Cell \u001b[0;32mIn [1], line 1\u001b[0m\n\u001b[0;32m----> 1\u001b[0m \u001b[38;5;28;01mimport\u001b[39;00m \u001b[38;5;21;01mnumpy\u001b[39;00m \u001b[38;5;28;01mas\u001b[39;00m \u001b[38;5;21;01mnp\u001b[39;00m\n\u001b[1;32m      2\u001b[0m \u001b[38;5;28;01mimport\u001b[39;00m \u001b[38;5;21;01mcv2\u001b[39;00m\n\u001b[1;32m      3\u001b[0m \u001b[38;5;28;01mimport\u001b[39;00m \u001b[38;5;21;01mmatplotlib\u001b[39;00m\u001b[38;5;21;01m.\u001b[39;00m\u001b[38;5;21;01mpyplot\u001b[39;00m \u001b[38;5;28;01mas\u001b[39;00m \u001b[38;5;21;01mplt\u001b[39;00m\n",
      "\u001b[0;31mModuleNotFoundError\u001b[0m: No module named 'numpy'"
     ]
    }
   ],
   "source": [
    "import numpy as np\n",
    "import cv2\n",
    "import matplotlib.pyplot as plt\n",
    "from skimage.color import rgb2hsv, rgb2gray, rgb2yuv"
   ]
  },
  {
   "cell_type": "markdown",
   "metadata": {},
   "source": [
    "### Read Image and Add Noise"
   ]
  },
  {
   "cell_type": "markdown",
   "metadata": {},
   "source": []
  },
  {
   "cell_type": "code",
   "execution_count": 1,
   "metadata": {},
   "outputs": [
    {
     "ename": "NameError",
     "evalue": "name 'cv2' is not defined",
     "output_type": "error",
     "traceback": [
      "\u001b[0;31m---------------------------------------------------------------------------\u001b[0m",
      "\u001b[0;31mNameError\u001b[0m                                 Traceback (most recent call last)",
      "Cell \u001b[0;32mIn [1], line 13\u001b[0m\n\u001b[1;32m     10\u001b[0m     plt\u001b[38;5;241m.\u001b[39mtitle(\u001b[38;5;124m'\u001b[39m\u001b[38;5;124mNoisy Image\u001b[39m\u001b[38;5;124m'\u001b[39m)\n\u001b[1;32m     11\u001b[0m     plt\u001b[38;5;241m.\u001b[39mimshow(noisy_img, cmap\u001b[38;5;241m=\u001b[39m\u001b[38;5;124m'\u001b[39m\u001b[38;5;124mgray\u001b[39m\u001b[38;5;124m'\u001b[39m)\n\u001b[0;32m---> 13\u001b[0m img \u001b[38;5;241m=\u001b[39m \u001b[43mcv2\u001b[49m\u001b[38;5;241m.\u001b[39mimread(\u001b[38;5;124m'\u001b[39m\u001b[38;5;124mcameraman.png\u001b[39m\u001b[38;5;124m'\u001b[39m)\n\u001b[1;32m     14\u001b[0m img_gray \u001b[38;5;241m=\u001b[39m rgb2gray(img)\n\u001b[1;32m     15\u001b[0m plt\u001b[38;5;241m.\u001b[39mtitle(\u001b[38;5;124m'\u001b[39m\u001b[38;5;124mInput Image\u001b[39m\u001b[38;5;124m'\u001b[39m)\n",
      "\u001b[0;31mNameError\u001b[0m: name 'cv2' is not defined"
     ]
    }
   ],
   "source": [
    "def gaussian_noise(img_gray):\n",
    "    \n",
    "    row,col= img_gray.shape\n",
    "    mean = 0\n",
    "    var = 0.1\n",
    "    sigma = var ** 0.5\n",
    "    gaussian = np.random.normal(mean, sigma, (row, col)) \n",
    "    noisy_img = img_gray + gaussian\n",
    "    plt.figure()\n",
    "    plt.title('Noisy Image')\n",
    "    plt.imshow(noisy_img, cmap='gray')\n",
    "\n",
    "img = cv2.imread('cameraman.png')\n",
    "img_gray = rgb2gray(img)\n",
    "plt.title('Input Image')\n",
    "plt.imshow(img, cmap='gray')\n",
    "\n",
    "gaussian_noise(img_gray)"
   ]
  },
  {
   "cell_type": "markdown",
   "metadata": {},
   "source": [
    "### Forward and Backward Difference"
   ]
  },
  {
   "cell_type": "code",
   "execution_count": null,
   "metadata": {},
   "outputs": [],
   "source": [
    "def forward_difference(image):\n",
    "    rows, cols = image.shape\n",
    "    d = np.zeros((rows,cols))\n",
    "    d[:,1:cols-1] = image[:,1:cols-1] - image[:,0:cols-2];\n",
    "    d[:,0] = image[:,0] - image[:,cols-1];\n",
    "    return d\n",
    "\n",
    "\n",
    "def backward_difference(image):\n",
    "    rows, cols = image.shape\n",
    "    d = np.zeros((rows,cols))\n",
    "    d[1:rows-1, :] = image[1:rows-1, :] - image[0:rows-2, :];\n",
    "    d[0,:] = image[0,:] - image[rows-1,:];\n",
    "    return d\n",
    "\n",
    "\n",
    "## read image\n",
    "img = cv2.imread('cameraman.png')\n",
    "img_gray = rgb2gray(img)\n",
    "\n",
    "\n",
    "## plot the image\n",
    "plt.figure()\n",
    "plt.title('Input Image')\n",
    "plt.imshow(img_gray, cmap='gray')\n",
    "\n",
    "\n",
    "## calculate forward difference and plot\n",
    "forward_diff_img = forward_difference(img_gray)\n",
    "plt.figure()\n",
    "plt.title('Forward Difference')\n",
    "plt.imshow(forward_diff_img, cmap='gray')\n",
    "\n",
    "\n",
    "## calculate backward difference and plot\n",
    "backward_diff_img = backward_difference(img_gray)\n",
    "plt.figure()\n",
    "plt.title('Backward Difference')\n",
    "plt.imshow(backward_diff_img, cmap='gray')"
   ]
  }
 ],
 "metadata": {
  "kernelspec": {
   "display_name": "Python 3.8.9 64-bit",
   "language": "python",
   "name": "python3"
  },
  "language_info": {
   "codemirror_mode": {
    "name": "ipython",
    "version": 3
   },
   "file_extension": ".py",
   "mimetype": "text/x-python",
   "name": "python",
   "nbconvert_exporter": "python",
   "pygments_lexer": "ipython3",
   "version": "3.8.9"
  },
  "orig_nbformat": 4,
  "vscode": {
   "interpreter": {
    "hash": "31f2aee4e71d21fbe5cf8b01ff0e069b9275f58929596ceb00d14d90e3e16cd6"
   }
  }
 },
 "nbformat": 4,
 "nbformat_minor": 2
}
